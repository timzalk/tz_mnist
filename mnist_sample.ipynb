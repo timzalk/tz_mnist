{
  "nbformat": 4,
  "nbformat_minor": 0,
  "metadata": {
    "kernelspec": {
      "name": "python3",
      "display_name": "Python 3"
    },
    "language_info": {
      "codemirror_mode": {
        "name": "ipython",
        "version": 3
      },
      "file_extension": ".py",
      "mimetype": "text/x-python",
      "name": "python",
      "nbconvert_exporter": "python",
      "pygments_lexer": "ipython3",
      "version": "3.6.8"
    },
    "colab": {
      "name": "MNIST.ipynb",
      "provenance": []
    },
    "accelerator": "GPU"
  },
  "cells": [
    {
      "cell_type": "markdown",
      "metadata": {
        "id": "NHgXTQVLubQZ",
        "colab_type": "text"
      },
      "source": [
        "# MNIST with SciKit-Learn and skorch\n",
        "\n",
        "This notebooks shows how to define and train a simple Neural-Network with PyTorch and use it via skorch with SciKit-Learn.\n"
      ]
    },
    {
      "cell_type": "markdown",
      "metadata": {
        "id": "S63sXf99ubQi",
        "colab_type": "text"
      },
      "source": [
        "**Note**: If you are running this in [a colab notebook](https://colab.research.google.com/github/skorch-dev/skorch/blob/master/notebooks/MNIST.ipynb), we recommend you enable a free GPU by going:\n",
        "\n",
        "> **Runtime**   →   **Change runtime type**   →   **Hardware Accelerator: GPU**\n",
        "\n",
        "If you are running in colab, you should install the dependencies and download the dataset by running the following cell:"
      ]
    },
    {
      "cell_type": "code",
      "metadata": {
        "id": "p31fW-gYubQj",
        "colab_type": "code",
        "colab": {
          "base_uri": "https://localhost:8080/",
          "height": 277
        },
        "outputId": "565cb319-c783-442a-ef6a-87627760b7c9"
      },
      "source": [
        "! [ ! -z \"$COLAB_GPU\" ] && pip install torch scikit-learn==0.20.* skorch"
      ],
      "execution_count": 1,
      "outputs": [
        {
          "output_type": "stream",
          "text": [
            "Requirement already satisfied: torch in /usr/local/lib/python3.6/dist-packages (1.2.0)\n",
            "Collecting scikit-learn==0.20.*\n",
            "\u001b[?25l  Downloading https://files.pythonhosted.org/packages/96/5b/5da31a6572dc6b7b2846a7cfcbe2e060a0e6af0e1059a6516965e40371b7/scikit_learn-0.20.4-cp36-cp36m-manylinux1_x86_64.whl (5.4MB)\n",
            "\u001b[K     |████████████████████████████████| 5.4MB 3.4MB/s \n",
            "\u001b[?25hCollecting skorch\n",
            "\u001b[?25l  Downloading https://files.pythonhosted.org/packages/c7/df/1e0be91bf4c91fce5f99cc4edd89d3dfc16930d3fc77588493558036a8d2/skorch-0.6.0-py3-none-any.whl (101kB)\n",
            "\u001b[K     |████████████████████████████████| 102kB 23.6MB/s \n",
            "\u001b[?25hRequirement already satisfied: numpy in /usr/local/lib/python3.6/dist-packages (from torch) (1.16.5)\n",
            "Requirement already satisfied: scipy>=0.13.3 in /usr/local/lib/python3.6/dist-packages (from scikit-learn==0.20.*) (1.3.1)\n",
            "Requirement already satisfied: tabulate>=0.7.7 in /usr/local/lib/python3.6/dist-packages (from skorch) (0.8.5)\n",
            "Requirement already satisfied: tqdm>=4.14.0 in /usr/local/lib/python3.6/dist-packages (from skorch) (4.28.1)\n",
            "Installing collected packages: scikit-learn, skorch\n",
            "  Found existing installation: scikit-learn 0.21.3\n",
            "    Uninstalling scikit-learn-0.21.3:\n",
            "      Successfully uninstalled scikit-learn-0.21.3\n",
            "Successfully installed scikit-learn-0.20.4 skorch-0.6.0\n"
          ],
          "name": "stdout"
        }
      ]
    },
    {
      "cell_type": "code",
      "metadata": {
        "id": "Q0StXKkbubQm",
        "colab_type": "code",
        "colab": {}
      },
      "source": [
        "from sklearn.datasets import fetch_openml\n",
        "from sklearn.model_selection import train_test_split\n",
        "import numpy as np\n",
        "import matplotlib.pyplot as plt"
      ],
      "execution_count": 0,
      "outputs": []
    },
    {
      "cell_type": "markdown",
      "metadata": {
        "id": "oRXlEYnxubQp",
        "colab_type": "text"
      },
      "source": [
        "## Loading Data\n",
        "Using SciKit-Learns ```fetch_openml``` to load MNIST data.  \n",
        "[https://en.wikipedia.org/wiki/MNIST_database](https://en.wikipedia.org/wiki/MNIST_database)  \n",
        "Loads about 55 MB"
      ]
    },
    {
      "cell_type": "code",
      "metadata": {
        "id": "-F3JUKoyubQq",
        "colab_type": "code",
        "colab": {
          "base_uri": "https://localhost:8080/",
          "height": 33
        },
        "outputId": "27e02368-af8a-472e-d09f-d40af9aeaed6"
      },
      "source": [
        "mnist = fetch_openml('mnist_784', cache=False)\n",
        "mnist.data.shape"
      ],
      "execution_count": 3,
      "outputs": [
        {
          "output_type": "execute_result",
          "data": {
            "text/plain": [
              "(70000, 784)"
            ]
          },
          "metadata": {
            "tags": []
          },
          "execution_count": 3
        }
      ]
    },
    {
      "cell_type": "markdown",
      "metadata": {
        "id": "p_FFkNwNubQx",
        "colab_type": "text"
      },
      "source": [
        "## Preprocessing Data\n",
        "\n",
        "Each image of the MNIST dataset is encoded in a 784 dimensional vector, representing a 28 x 28 pixel image. Each pixel has a value between 0 and 255, corresponding to the grey-value of a pixel.<br />\n",
        "The above ```featch_mldata``` method to load MNIST returns ```data``` and ```target``` as ```uint8``` which we convert to ```float32``` and ```int64``` respectively. Values are scaled to the range of [0, 1]. Data are not normalized."
      ]
    },
    {
      "cell_type": "code",
      "metadata": {
        "id": "bo1lORvVubQy",
        "colab_type": "code",
        "colab": {
          "base_uri": "https://localhost:8080/",
          "height": 33
        },
        "outputId": "3d1085b0-5509-4bd8-d8f5-61b00c77c269"
      },
      "source": [
        "X = mnist.data.astype('float32')\n",
        "y = mnist.target.astype('int64')\n",
        "X /= 255.0\n",
        "X.min(), X.max()"
      ],
      "execution_count": 4,
      "outputs": [
        {
          "output_type": "execute_result",
          "data": {
            "text/plain": [
              "(0.0, 1.0)"
            ]
          },
          "metadata": {
            "tags": []
          },
          "execution_count": 4
        }
      ]
    },
    {
      "cell_type": "markdown",
      "metadata": {
        "id": "Ij2axCREVqli",
        "colab_type": "text"
      },
      "source": [
        "Split train and test sets"
      ]
    },
    {
      "cell_type": "code",
      "metadata": {
        "id": "GhGC_5ntubQ-",
        "colab_type": "code",
        "colab": {
          "base_uri": "https://localhost:8080/",
          "height": 33
        },
        "outputId": "22d98f33-c373-4ccf-8bfa-4fe3171a35b9"
      },
      "source": [
        "X_train, X_test, y_train, y_test = train_test_split(X, y, test_size=0.25, random_state=42)\n",
        "assert(X_train.shape[0] + X_test.shape[0] == mnist.data.shape[0])\n",
        "X_train.shape, y_train.shape"
      ],
      "execution_count": 5,
      "outputs": [
        {
          "output_type": "execute_result",
          "data": {
            "text/plain": [
              "((52500, 784), (52500,))"
            ]
          },
          "metadata": {
            "tags": []
          },
          "execution_count": 5
        }
      ]
    },
    {
      "cell_type": "markdown",
      "metadata": {
        "id": "ZBUr1gtLubRJ",
        "colab_type": "text"
      },
      "source": [
        "### Print a selection of training images and their labels"
      ]
    },
    {
      "cell_type": "code",
      "metadata": {
        "id": "NXAN4zo_ubRK",
        "colab_type": "code",
        "colab": {
          "base_uri": "https://localhost:8080/",
          "height": 107
        },
        "outputId": "b5d72daa-3aa4-4c7e-8f50-fe8d305ef74c"
      },
      "source": [
        "def plot_example(X, y):\n",
        "    for i, (img, y) in enumerate(zip(X[:5].reshape(5, 28, 28), y[:5])):\n",
        "        plt.subplot(151 + i)\n",
        "        plt.imshow(img)\n",
        "        plt.xticks([])\n",
        "        plt.yticks([])\n",
        "        plt.title(y)\n",
        "\n",
        "plot_example(X_train, y_train)"
      ],
      "execution_count": 9,
      "outputs": [
        {
          "output_type": "display_data",
          "data": {
            "image/png": "[encoded data removed]",
            "text/plain": [
              "<Figure size 432x288 with 5 Axes>"
            ]
          },
          "metadata": {
            "tags": []
          }
        }
      ]
    },
    {
      "cell_type": "markdown",
      "metadata": {
        "id": "JDMmmP_MubRQ",
        "colab_type": "text"
      },
      "source": [
        "## Build Neural Network with PyTorch\n",
        "Simple, fully connected neural network with one hidden layer. Input layer has 784 dimensions (28x28), hidden layer has 98 (= 784 / 8) and output layer 10 neurons, representing digits 0 - 9."
      ]
    },
    {
      "cell_type": "code",
      "metadata": {
        "id": "-ZgbozCBubRR",
        "colab_type": "code",
        "colab": {}
      },
      "source": [
        "import torch\n",
        "from torch import nn\n",
        "import torch.nn.functional as F"
      ],
      "execution_count": 0,
      "outputs": []
    },
    {
      "cell_type": "code",
      "metadata": {
        "id": "1fgmF-MTubRS",
        "colab_type": "code",
        "colab": {
          "base_uri": "https://localhost:8080/",
          "height": 33
        },
        "outputId": "3b124068-351d-4880-9876-17b872fe250f"
      },
      "source": [
        "device = 'cuda' if torch.cuda.is_available() else 'cpu'\n",
        "\n",
        "mnist_dim = X.shape[1]\n",
        "hidden_dim = int(mnist_dim/8)\n",
        "output_dim = len(np.unique(mnist.target))\n",
        "\n",
        "mnist_dim, hidden_dim, output_dim"
      ],
      "execution_count": 11,
      "outputs": [
        {
          "output_type": "execute_result",
          "data": {
            "text/plain": [
              "(784, 98, 10)"
            ]
          },
          "metadata": {
            "tags": []
          },
          "execution_count": 11
        }
      ]
    },
    {
      "cell_type": "markdown",
      "metadata": {
        "id": "ebXvq7C5ubRY",
        "colab_type": "text"
      },
      "source": [
        "A Neural network in PyTorch's framework."
      ]
    },
    {
      "cell_type": "code",
      "metadata": {
        "id": "cBhw7QJmubRY",
        "colab_type": "code",
        "colab": {}
      },
      "source": [
        "class ClassifierModule(nn.Module):\n",
        "    def __init__(\n",
        "            self,\n",
        "            input_dim=mnist_dim,\n",
        "            hidden_dim=hidden_dim,\n",
        "            output_dim=output_dim,\n",
        "            dropout=0.5,\n",
        "    ):\n",
        "        super(ClassifierModule, self).__init__()\n",
        "        self.dropout = nn.Dropout(dropout)\n",
        "\n",
        "        self.hidden = nn.Linear(input_dim, hidden_dim)\n",
        "        self.output = nn.Linear(hidden_dim, output_dim)\n",
        "\n",
        "    def forward(self, X, **kwargs):\n",
        "        X = F.relu(self.hidden(X))\n",
        "        X = self.dropout(X)\n",
        "        X = F.softmax(self.output(X), dim=-1)\n",
        "        return X"
      ],
      "execution_count": 0,
      "outputs": []
    },
    {
      "cell_type": "markdown",
      "metadata": {
        "id": "TeZQb03wubRa",
        "colab_type": "text"
      },
      "source": [
        "skorch allows to use PyTorch's networks in the SciKit-Learn setting:"
      ]
    },
    {
      "cell_type": "code",
      "metadata": {
        "id": "J-HbP0CeubRc",
        "colab_type": "code",
        "colab": {}
      },
      "source": [
        "from skorch import NeuralNetClassifier"
      ],
      "execution_count": 0,
      "outputs": []
    },
    {
      "cell_type": "code",
      "metadata": {
        "id": "YBBoOlMuubRg",
        "colab_type": "code",
        "colab": {
          "base_uri": "https://localhost:8080/",
          "height": 862
        },
        "outputId": "b2d66023-dadc-4697-93aa-f7cb8c135d4e"
      },
      "source": [
        "torch.manual_seed(10)\n",
        "\n",
        "net = NeuralNetClassifier(\n",
        "    ClassifierModule,\n",
        "    max_epochs=20,\n",
        "    #max_epochs=50,\n",
        "    lr=0.1,\n",
        "    device=device,\n",
        ")\n",
        "\n",
        "net.fit(X_train, y_train);"
      ],
      "execution_count": 17,
      "outputs": [
        {
          "output_type": "stream",
          "text": [
            "  epoch    train_loss    valid_acc    valid_loss     dur\n",
            "-------  ------------  -----------  ------------  ------\n",
            "      1        \u001b[36m0.8241\u001b[0m       \u001b[32m0.8832\u001b[0m        \u001b[35m0.4101\u001b[0m  1.1068\n",
            "      2        \u001b[36m0.4241\u001b[0m       \u001b[32m0.9161\u001b[0m        \u001b[35m0.2984\u001b[0m  0.9746\n",
            "      3        \u001b[36m0.3528\u001b[0m       \u001b[32m0.9277\u001b[0m        \u001b[35m0.2534\u001b[0m  1.0034\n",
            "      4        \u001b[36m0.3136\u001b[0m       \u001b[32m0.9334\u001b[0m        \u001b[35m0.2272\u001b[0m  1.0195\n",
            "      5        \u001b[36m0.2825\u001b[0m       \u001b[32m0.9395\u001b[0m        \u001b[35m0.2058\u001b[0m  1.0612\n",
            "      6        \u001b[36m0.2639\u001b[0m       \u001b[32m0.9429\u001b[0m        \u001b[35m0.1924\u001b[0m  0.9509\n",
            "      7        \u001b[36m0.2494\u001b[0m       \u001b[32m0.9453\u001b[0m        \u001b[35m0.1836\u001b[0m  1.0211\n",
            "      8        \u001b[36m0.2355\u001b[0m       \u001b[32m0.9513\u001b[0m        \u001b[35m0.1659\u001b[0m  1.0031\n",
            "      9        \u001b[36m0.2252\u001b[0m       0.9505        \u001b[35m0.1620\u001b[0m  1.0004\n",
            "     10        \u001b[36m0.2160\u001b[0m       \u001b[32m0.9531\u001b[0m        \u001b[35m0.1550\u001b[0m  0.9876\n",
            "     11        \u001b[36m0.2063\u001b[0m       \u001b[32m0.9571\u001b[0m        \u001b[35m0.1475\u001b[0m  0.9767\n",
            "     12        \u001b[36m0.2029\u001b[0m       \u001b[32m0.9586\u001b[0m        \u001b[35m0.1409\u001b[0m  0.9916\n",
            "     13        \u001b[36m0.1974\u001b[0m       0.9583        \u001b[35m0.1391\u001b[0m  0.9607\n",
            "     14        \u001b[36m0.1916\u001b[0m       0.9583        \u001b[35m0.1387\u001b[0m  0.9855\n",
            "     15        \u001b[36m0.1869\u001b[0m       \u001b[32m0.9601\u001b[0m        \u001b[35m0.1334\u001b[0m  0.9694\n",
            "     16        \u001b[36m0.1817\u001b[0m       \u001b[32m0.9611\u001b[0m        \u001b[35m0.1312\u001b[0m  1.0866\n",
            "     17        \u001b[36m0.1767\u001b[0m       \u001b[32m0.9622\u001b[0m        \u001b[35m0.1290\u001b[0m  1.0209\n",
            "     18        \u001b[36m0.1709\u001b[0m       0.9617        \u001b[35m0.1263\u001b[0m  1.1023\n",
            "     19        \u001b[36m0.1688\u001b[0m       \u001b[32m0.9631\u001b[0m        \u001b[35m0.1231\u001b[0m  0.9908\n",
            "     20        \u001b[36m0.1657\u001b[0m       \u001b[32m0.9646\u001b[0m        \u001b[35m0.1198\u001b[0m  0.9746\n",
            "     21        \u001b[36m0.1631\u001b[0m       0.9641        \u001b[35m0.1189\u001b[0m  1.0775\n",
            "     22        \u001b[36m0.1617\u001b[0m       \u001b[32m0.9652\u001b[0m        \u001b[35m0.1159\u001b[0m  0.9613\n",
            "     23        \u001b[36m0.1585\u001b[0m       \u001b[32m0.9661\u001b[0m        \u001b[35m0.1156\u001b[0m  1.1115\n",
            "     24        \u001b[36m0.1557\u001b[0m       \u001b[32m0.9663\u001b[0m        \u001b[35m0.1148\u001b[0m  1.1055\n",
            "     25        \u001b[36m0.1524\u001b[0m       0.9636        0.1177  0.9661\n",
            "     26        \u001b[36m0.1515\u001b[0m       \u001b[32m0.9666\u001b[0m        \u001b[35m0.1117\u001b[0m  0.9851\n",
            "     27        \u001b[36m0.1489\u001b[0m       \u001b[32m0.9671\u001b[0m        \u001b[35m0.1101\u001b[0m  0.9779\n",
            "     28        \u001b[36m0.1464\u001b[0m       \u001b[32m0.9678\u001b[0m        \u001b[35m0.1078\u001b[0m  0.9832\n",
            "     29        \u001b[36m0.1457\u001b[0m       0.9672        0.1086  0.9714\n",
            "     30        \u001b[36m0.1421\u001b[0m       \u001b[32m0.9685\u001b[0m        \u001b[35m0.1065\u001b[0m  0.9758\n",
            "     31        \u001b[36m0.1400\u001b[0m       \u001b[32m0.9688\u001b[0m        \u001b[35m0.1047\u001b[0m  1.0117\n",
            "     32        0.1414       0.9684        0.1060  0.9819\n",
            "     33        \u001b[36m0.1366\u001b[0m       \u001b[32m0.9695\u001b[0m        \u001b[35m0.1033\u001b[0m  1.0965\n",
            "     34        \u001b[36m0.1343\u001b[0m       0.9692        \u001b[35m0.1032\u001b[0m  0.9544\n",
            "     35        \u001b[36m0.1341\u001b[0m       0.9687        0.1054  0.9729\n",
            "     36        0.1356       0.9688        0.1035  0.9663\n",
            "     37        \u001b[36m0.1313\u001b[0m       \u001b[32m0.9699\u001b[0m        \u001b[35m0.1026\u001b[0m  0.9669\n",
            "     38        0.1327       0.9697        \u001b[35m0.1017\u001b[0m  1.0003\n",
            "     39        \u001b[36m0.1310\u001b[0m       0.9692        0.1027  1.0043\n",
            "     40        \u001b[36m0.1288\u001b[0m       \u001b[32m0.9711\u001b[0m        \u001b[35m0.1011\u001b[0m  0.9608\n",
            "     41        \u001b[36m0.1240\u001b[0m       \u001b[32m0.9722\u001b[0m        \u001b[35m0.0981\u001b[0m  1.0904\n",
            "     42        0.1243       0.9717        0.0990  0.9855\n",
            "     43        \u001b[36m0.1229\u001b[0m       0.9712        0.0993  1.0024\n",
            "     44        \u001b[36m0.1221\u001b[0m       0.9721        0.0984  1.0155\n",
            "     45        0.1228       0.9718        \u001b[35m0.0975\u001b[0m  0.9872\n",
            "     46        \u001b[36m0.1216\u001b[0m       0.9712        0.0981  0.9890\n",
            "     47        \u001b[36m0.1180\u001b[0m       0.9713        \u001b[35m0.0973\u001b[0m  0.9687\n",
            "     48        0.1201       0.9721        \u001b[35m0.0961\u001b[0m  1.1361\n",
            "     49        0.1188       0.9707        0.1001  1.1442\n",
            "     50        \u001b[36m0.1159\u001b[0m       0.9712        0.0974  0.9643\n"
          ],
          "name": "stdout"
        }
      ]
    },
    {
      "cell_type": "markdown",
      "metadata": {
        "id": "1ygo57hKubRl",
        "colab_type": "text"
      },
      "source": [
        "## Prediction"
      ]
    },
    {
      "cell_type": "code",
      "metadata": {
        "id": "LlDwKdaiubRm",
        "colab_type": "code",
        "colab": {}
      },
      "source": [
        "from sklearn.metrics import accuracy_score"
      ],
      "execution_count": 0,
      "outputs": []
    },
    {
      "cell_type": "code",
      "metadata": {
        "id": "lSxijSHnubRn",
        "colab_type": "code",
        "colab": {
          "base_uri": "https://localhost:8080/",
          "height": 33
        },
        "outputId": "15077c7e-6b6b-44d3-ea74-7e34ac87420e"
      },
      "source": [
        "y_pred = net.predict(X_test)\n",
        "accuracy_score(y_test, y_pred)"
      ],
      "execution_count": 18,
      "outputs": [
        {
          "output_type": "execute_result",
          "data": {
            "text/plain": [
              "0.9702285714285714"
            ]
          },
          "metadata": {
            "tags": []
          },
          "execution_count": 18
        }
      ]
    },
    {
      "cell_type": "markdown",
      "metadata": {
        "id": "TkWSqXVvubRs",
        "colab_type": "text"
      },
      "source": [
        "\n",
        "Let's take a look at some predictions that went wrong:"
      ]
    },
    {
      "cell_type": "code",
      "metadata": {
        "id": "SFHFiiAJubRt",
        "colab_type": "code",
        "colab": {
          "base_uri": "https://localhost:8080/",
          "height": 107
        },
        "outputId": "44edca08-448e-4580-e5a3-644c1ecef5ab"
      },
      "source": [
        "error_mask = y_pred != y_test\n",
        "plot_example(X_test[error_mask], y_pred[error_mask])"
      ],
      "execution_count": 19,
      "outputs": [
        {
          "output_type": "display_data",
          "data": {
            "image/png": "[encoded data removed]",
            "text/plain": [
              "<Figure size 432x288 with 5 Axes>"
            ]
          },
          "metadata": {
            "tags": []
          }
        }
      ]
    },
    {
      "cell_type": "markdown",
      "metadata": {
        "id": "RVqWVrasubRw",
        "colab_type": "text"
      },
      "source": [
        "# Convolutional Network\n",
        "PyTorch expects a 4 dimensional tensor as input for its 2D convolution layer. The dimensions represent:\n",
        "* Batch size\n",
        "* Number of channel\n",
        "* Height\n",
        "* Width\n",
        "\n",
        "As initial batch size the number of examples needs to be provided. MNIST data has only one channel. As stated above, each MNIST vector represents a 28x28 pixel image. Hence, the resulting shape for PyTorch tensor needs to be (x, 1, 28, 28). "
      ]
    },
    {
      "cell_type": "code",
      "metadata": {
        "id": "tcPahkKFubRx",
        "colab_type": "code",
        "colab": {
          "base_uri": "https://localhost:8080/",
          "height": 33
        },
        "outputId": "b782a038-ae57-4925-af2c-e094d69c2173"
      },
      "source": [
        "XCnn = X.reshape(-1, 1, 28, 28)\n",
        "XCnn.shape"
      ],
      "execution_count": 31,
      "outputs": [
        {
          "output_type": "execute_result",
          "data": {
            "text/plain": [
              "(70000, 1, 28, 28)"
            ]
          },
          "metadata": {
            "tags": []
          },
          "execution_count": 31
        }
      ]
    },
    {
      "cell_type": "code",
      "metadata": {
        "id": "zs0LKJ8subR1",
        "colab_type": "code",
        "colab": {
          "base_uri": "https://localhost:8080/",
          "height": 33
        },
        "outputId": "7f6ee4a1-e41a-46e0-b576-dbb6a7550884"
      },
      "source": [
        "XCnn_train, XCnn_test, y_train, y_test = train_test_split(XCnn, y, test_size=0.25, random_state=42)\n",
        "XCnn_train.shape, y_train.shape"
      ],
      "execution_count": 32,
      "outputs": [
        {
          "output_type": "execute_result",
          "data": {
            "text/plain": [
              "((52500, 1, 28, 28), (52500,))"
            ]
          },
          "metadata": {
            "tags": []
          },
          "execution_count": 32
        }
      ]
    },
    {
      "cell_type": "code",
      "metadata": {
        "id": "0GJbTCmIubR4",
        "colab_type": "code",
        "colab": {}
      },
      "source": [
        "class Cnn(nn.Module):\n",
        "    def __init__(self, dropout=0.5):\n",
        "        super(Cnn, self).__init__()\n",
        "        self.conv1 = nn.Conv2d(1, 32, kernel_size=3)\n",
        "        self.conv2 = nn.Conv2d(32, 64, kernel_size=3)\n",
        "        self.conv2_drop = nn.Dropout2d(p=dropout)\n",
        "        self.fc1 = nn.Linear(1600, 100) # 1600 = number channels * width * height\n",
        "        self.fc2 = nn.Linear(100, 10)\n",
        "        self.fc1_drop = nn.Dropout(p=dropout)\n",
        "\n",
        "    def forward(self, x):\n",
        "        x = torch.relu(F.max_pool2d(self.conv1(x), 2))\n",
        "        x = torch.relu(F.max_pool2d(self.conv2_drop(self.conv2(x)), 2))\n",
        "        \n",
        "        # flatten over channel, height and width = 1600\n",
        "        x = x.view(-1, x.size(1) * x.size(2) * x.size(3))\n",
        "        \n",
        "        x = torch.relu(self.fc1_drop(self.fc1(x)))\n",
        "        x = torch.softmax(self.fc2(x), dim=-1)\n",
        "        return x"
      ],
      "execution_count": 0,
      "outputs": []
    },
    {
      "cell_type": "code",
      "metadata": {
        "id": "Pnpr-dVXubR6",
        "colab_type": "code",
        "colab": {
          "base_uri": "https://localhost:8080/",
          "height": 147
        },
        "outputId": "970454ba-4f5c-42db-a87d-41e74cd99df8"
      },
      "source": [
        "torch.manual_seed(20)\n",
        "\n",
        "cnn = NeuralNetClassifier(\n",
        "    Cnn,\n",
        "    max_epochs=6,\n",
        "    lr=0.002,\n",
        "    optimizer=torch.optim.Adam,\n",
        "    device=device,\n",
        ")\n",
        "\n",
        "cnn.fit(XCnn_train, y_train);"
      ],
      "execution_count": 40,
      "outputs": [
        {
          "output_type": "stream",
          "text": [
            "  epoch    train_loss    valid_acc    valid_loss     dur\n",
            "-------  ------------  -----------  ------------  ------\n",
            "      1        \u001b[36m0.4452\u001b[0m       \u001b[32m0.9659\u001b[0m        \u001b[35m0.1086\u001b[0m  2.7723\n",
            "      2        \u001b[36m0.1826\u001b[0m       \u001b[32m0.9781\u001b[0m        \u001b[35m0.0721\u001b[0m  2.8061\n",
            "      3        \u001b[36m0.1466\u001b[0m       \u001b[32m0.9832\u001b[0m        \u001b[35m0.0557\u001b[0m  2.7738\n",
            "      4        \u001b[36m0.1203\u001b[0m       \u001b[32m0.9845\u001b[0m        \u001b[35m0.0500\u001b[0m  2.7628\n",
            "      5        \u001b[36m0.1103\u001b[0m       \u001b[32m0.9851\u001b[0m        \u001b[35m0.0469\u001b[0m  2.7886\n",
            "      6        \u001b[36m0.1002\u001b[0m       \u001b[32m0.9859\u001b[0m        \u001b[35m0.0445\u001b[0m  2.7636\n"
          ],
          "name": "stdout"
        }
      ]
    },
    {
      "cell_type": "code",
      "metadata": {
        "id": "Ta3EY_lDubSB",
        "colab_type": "code",
        "colab": {
          "base_uri": "https://localhost:8080/",
          "height": 33
        },
        "outputId": "2a2d7217-639f-4f7a-a145-4151892d5fad"
      },
      "source": [
        "y_pred_cnn = cnn.predict(XCnn_test)\n",
        "accuracy_score(y_test, y_pred_cnn)"
      ],
      "execution_count": 41,
      "outputs": [
        {
          "output_type": "execute_result",
          "data": {
            "text/plain": [
              "0.9855428571428572"
            ]
          },
          "metadata": {
            "tags": []
          },
          "execution_count": 41
        }
      ]
    },
    {
      "cell_type": "markdown",
      "metadata": {
        "id": "cli7T1VZubSF",
        "colab_type": "text"
      },
      "source": [
        "\n",
        "Let's see how we fare on the examples that went wrong before:"
      ]
    },
    {
      "cell_type": "code",
      "metadata": {
        "id": "fNo6yKW7ubSG",
        "colab_type": "code",
        "colab": {
          "base_uri": "https://localhost:8080/",
          "height": 33
        },
        "outputId": "d6827715-87e3-40a9-9e9d-108817d52926"
      },
      "source": [
        "accuracy_score(y_test[error_mask], y_pred_cnn[error_mask])"
      ],
      "execution_count": 42,
      "outputs": [
        {
          "output_type": "execute_result",
          "data": {
            "text/plain": [
              "0.6391554702495201"
            ]
          },
          "metadata": {
            "tags": []
          },
          "execution_count": 42
        }
      ]
    },
    {
      "cell_type": "code",
      "metadata": {
        "id": "hOKoh4SXubSI",
        "colab_type": "code",
        "colab": {
          "base_uri": "https://localhost:8080/",
          "height": 107
        },
        "outputId": "9e185bec-36be-45c7-aac0-6a65f29ab617"
      },
      "source": [
        "plot_example(X_test[error_mask], y_pred_cnn[error_mask])"
      ],
      "execution_count": 43,
      "outputs": [
        {
          "output_type": "display_data",
          "data": {
            "image/png": "[encoded data removed]",
            "text/plain": [
              "<Figure size 432x288 with 5 Axes>"
            ]
          },
          "metadata": {
            "tags": []
          }
        }
      ]
    }
  ]
}
